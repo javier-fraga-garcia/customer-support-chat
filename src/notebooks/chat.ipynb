{
 "cells": [
  {
   "cell_type": "code",
   "execution_count": null,
   "id": "bbf5d520",
   "metadata": {},
   "outputs": [],
   "source": [
    "import json\n",
    "from openai import OpenAI\n",
    "import pandas as pd"
   ]
  },
  {
   "cell_type": "code",
   "execution_count": null,
   "id": "c8565120",
   "metadata": {},
   "outputs": [],
   "source": [
    "client = OpenAI()"
   ]
  },
  {
   "cell_type": "code",
   "execution_count": null,
   "id": "16f1c9b5",
   "metadata": {},
   "outputs": [],
   "source": [
    "messages = [{\"role\": \"user\", \"content\": \"Hola, como estás?\"}]\n",
    "response = client.chat.completions.create(model=\"gpt-4.1-nano\", messages=messages)"
   ]
  },
  {
   "cell_type": "code",
   "execution_count": null,
   "id": "b06091b4",
   "metadata": {},
   "outputs": [],
   "source": [
    "response.choices[0].message.content"
   ]
  },
  {
   "cell_type": "code",
   "execution_count": null,
   "id": "c2789277",
   "metadata": {},
   "outputs": [],
   "source": [
    "def get_store_locations(postal_codes: list[int]) -> list:\n",
    "    \"\"\"\n",
    "    Retrieves the locations of stores near the specified postal codes.\n",
    "\n",
    "    Args:\n",
    "        postal_codes (list): A list of postal codes to search for nearby stores.\n",
    "\n",
    "    Returns:\n",
    "        list: A list of store locations found near the provided postal codes.\n",
    "    \"\"\"\n",
    "    print(f\"Function called for postal codes: {postal_codes}\")\n",
    "    df = pd.read_csv(\"../data/stores.csv\")\n",
    "    filtered_df = df[df[\"postal_code\"].isin(postal_codes)]\n",
    "    return list(filtered_df[\"store_name\"].values)"
   ]
  },
  {
   "cell_type": "code",
   "execution_count": null,
   "id": "3a5879b7",
   "metadata": {},
   "outputs": [],
   "source": [
    "get_store_locations([27003, 15001, 15003, 27004])"
   ]
  },
  {
   "cell_type": "code",
   "execution_count": null,
   "id": "6831809e",
   "metadata": {},
   "outputs": [],
   "source": [
    "tools = [\n",
    "    {\n",
    "        \"type\": \"function\",\n",
    "        \"function\": {\n",
    "            \"name\": \"get_store_locations\",\n",
    "            \"description\": \"Retrieve the names of stores near the specified postal codes.\",\n",
    "            \"parameters\": {\n",
    "                \"type\": \"object\",\n",
    "                \"properties\": {\n",
    "                    \"postal_codes\": {\n",
    "                        \"type\": \"array\",\n",
    "                        \"items\": {\"type\": \"integer\"},\n",
    "                        \"description\": \"List of postal codes to search for nearby stores. Example: [15003, 15704]\",\n",
    "                    }\n",
    "                },\n",
    "                \"required\": [\"postal_codes\"],\n",
    "                \"additionalProperties\": False,\n",
    "            },\n",
    "        },\n",
    "    }\n",
    "]"
   ]
  },
  {
   "cell_type": "code",
   "execution_count": null,
   "id": "f8b268b1",
   "metadata": {},
   "outputs": [],
   "source": [
    "globals().get(\"get_store_locations\")([27003, 15001, 15003, 27004])"
   ]
  },
  {
   "cell_type": "code",
   "execution_count": null,
   "id": "ee00efe0",
   "metadata": {},
   "outputs": [],
   "source": [
    "def handle_tool_calls(tool_calls: list) -> list:\n",
    "    results = []\n",
    "    for tool_call in tool_calls:\n",
    "        tool_name = tool_call.function.name\n",
    "        args = json.loads(tool_call.function.arguments)\n",
    "\n",
    "        tool = globals().get(tool_name)\n",
    "        result = tool(**args) if tool else {}\n",
    "\n",
    "        results.append(\n",
    "            {\n",
    "                \"role\": \"tool\",\n",
    "                \"content\": json.dumps(result),\n",
    "                \"tool_call_id\": tool_call.id,\n",
    "            }\n",
    "        )\n",
    "    return results"
   ]
  },
  {
   "cell_type": "code",
   "execution_count": null,
   "id": "09e3d42f",
   "metadata": {},
   "outputs": [],
   "source": [
    "from queue import Queue, Empty\n",
    "from contextlib import contextmanager\n",
    "from chromadb import PersistentClient\n",
    "\n",
    "class ChromaDbClient:\n",
    "\n",
    "    def __init__(self, db_path: str = './chroma', pool_size: int = 10):\n",
    "        self.pool = Queue(maxsize=pool_size)\n",
    "        succesful_connections = 0\n",
    "        for i in range(pool_size):\n",
    "            try:\n",
    "                client = PersistentClient(db_path)\n",
    "                self.pool.put(client)\n",
    "                succesful_connections += 1\n",
    "            except Exception as e:\n",
    "                print(f'Error while creating connection {i+1}: {str(e)}')\n",
    "        \n",
    "        if self.pool.empty():\n",
    "            raise RuntimeError('Unable to establish connections with the database')\n",
    "        \n",
    "        print(f'{succesful_connections}/{pool_size} connections established')\n",
    "    \n",
    "    def close(self):\n",
    "        while not self.pool.empty():\n",
    "            self.pool.get_nowait()\n",
    "\n",
    "    def __enter__(self):\n",
    "        return self\n",
    "    \n",
    "    def __exit__(self, exc_type, exc_value, traceback):\n",
    "        self.close()\n",
    "\n",
    "    @contextmanager\n",
    "    def acquire(self, collection_name: str, timeout: float = 30):\n",
    "        try:\n",
    "            client = self.pool.get(timeout=timeout)\n",
    "        except Empty:\n",
    "            raise RuntimeError('No available connections in pool')\n",
    "        try:\n",
    "            yield client.get_or_create_collection(collection_name)\n",
    "        finally:\n",
    "            self.pool.put(client)"
   ]
  },
  {
   "cell_type": "code",
   "execution_count": null,
   "id": "d7f20e44",
   "metadata": {},
   "outputs": [],
   "source": [
    "chroma_client = ChromaDbClient('../chroma', pool_size=5)"
   ]
  },
  {
   "cell_type": "code",
   "execution_count": null,
   "id": "8dbb134f",
   "metadata": {},
   "outputs": [],
   "source": [
    "def get_product_info(question: str) -> list[str]:\n",
    "    \"\"\"\n",
    "    Retrieves the most relevant text chunks based on semantic similarity from a ChromaDB collection.\n",
    "\n",
    "    This function uses a vector similarity search to find and return the text fragments \n",
    "    most relevant to a product-related question.\n",
    "\n",
    "    Args:\n",
    "        question (str): A natural language question about one or more products.\n",
    "\n",
    "    Returns:\n",
    "        list[str]: A list of text chunks that are most similar to the input question.\n",
    "    \"\"\"\n",
    "    print(f'Function called with query: {question}')\n",
    "    try:\n",
    "\n",
    "        with chroma_client.acquire('products') as collection:\n",
    "            results = collection.query(query_texts=[question], n_results=5)\n",
    "\n",
    "        documents = results.get('documents', [])\n",
    "        if not documents:\n",
    "            return [f'No relevant documents found for the query: {question}']\n",
    "\n",
    "        return documents\n",
    "    except Exception as e:\n",
    "        print(e)\n",
    "        return [f'An error occurred while retrieving related documents']"
   ]
  },
  {
   "cell_type": "code",
   "execution_count": null,
   "id": "9a7102a5",
   "metadata": {},
   "outputs": [],
   "source": [
    "globals().get('get_product_info')('Qué alérgenos tienen las patatas?')"
   ]
  },
  {
   "cell_type": "code",
   "execution_count": null,
   "id": "84948b65",
   "metadata": {},
   "outputs": [],
   "source": [
    "tools = [\n",
    "    {\n",
    "        \"type\": \"function\",\n",
    "        \"function\": {\n",
    "            \"name\": \"get_store_locations\",\n",
    "            \"description\": \"Retrieve the names of stores near the specified postal codes.\",\n",
    "            \"parameters\": {\n",
    "                \"type\": \"object\",\n",
    "                \"properties\": {\n",
    "                    \"postal_codes\": {\n",
    "                        \"type\": \"array\",\n",
    "                        \"items\": {\"type\": \"integer\"},\n",
    "                        \"description\": \"List of postal codes to search for nearby stores. Example: [15003, 15704]\",\n",
    "                    }\n",
    "                },\n",
    "                \"required\": [\"postal_codes\"],\n",
    "                \"additionalProperties\": False,\n",
    "            },\n",
    "        },\n",
    "    },\n",
    "    {\n",
    "        \"type\": \"function\",\n",
    "        \"function\": {\n",
    "            \"name\": \"get_product_info\",\n",
    "            \"description\": \"Retrieve relevant product information based on a natural language question using semantic similarity search\",\n",
    "            \"parameters\": {\n",
    "                \"type\": \"object\",\n",
    "                \"properties\": {\n",
    "                    \"question\": {\n",
    "                        \"type\": \"string\",\n",
    "                        \"description\": \"A natural language question about one or more products. Example: 'What are the allergens in chocolate?'\",\n",
    "                    }\n",
    "                },\n",
    "                \"required\": [\"question\"],\n",
    "                \"additionalProperties\": False,\n",
    "            },\n",
    "        },\n",
    "    }\n",
    "]"
   ]
  },
  {
   "cell_type": "code",
   "execution_count": null,
   "id": "0bd9f761",
   "metadata": {},
   "outputs": [],
   "source": [
    "system_prompt = \"\"\"\n",
    "Eres un asistente de atención al cliente encargado de ayudar a los usuarios a localizar tiendas cercanas y proporcionar información sobre productos.\n",
    "\n",
    "Dispones de dos herramientas:\n",
    "\n",
    "1. `get_store_locations`: permite recuperar las tiendas disponibles cerca de una ubicación.  \n",
    "   Esta herramienta recibe un único array con varios códigos postales, por ejemplo: [28001, 28002, 28003], y devuelve las tiendas que hay en esas zonas.\n",
    "\n",
    "2. `get_product_info`: permite recuperar información relevante sobre productos basada en preguntas en lenguaje natural.\n",
    "\n",
    "INSTRUCCIONES:\n",
    "\n",
    "1. Si el usuario menciona una ciudad:\n",
    "   - Identifica el nombre exacto de la ciudad.\n",
    "   - Obtén todos los códigos postales que pertenecen a esa ciudad.\n",
    "     No uses solo un código o unos pocos: asegúrate de generar la lista completa de códigos postales asociados a esa ciudad.\n",
    "   - Llama a la herramienta `get_store_locations` pasando un único array con todos esos códigos postales.\n",
    "\n",
    "2. Si el usuario menciona una ciudad y un distrito o barrio específico, asegúrate igualmente de incluir todos los códigos postales que correspondan a ese ámbito, aunque sean solo un subconjunto de la ciudad.\n",
    "\n",
    "3. Si el usuario formula una pregunta relacionada con productos (ingredientes, alérgenos, características, etc.), utiliza la herramienta `get_product_info` para obtener la información relevante, pasando la pregunta completa como parámetro.\n",
    "\n",
    "4. Si el usuario pregunta sobre cómo ponerse en contacto con la empresa, responde con el siguiente texto:\n",
    "   \"Puedes llamarnos al teléfono 888 888 888 o escribir un correo electrónico a test@test.com.\"\n",
    "\n",
    "5. No agrupes llamadas por código individual ni repitas llamadas con arrays parciales.\n",
    "\n",
    "6. Si el usuario pregunta qué tipo de consultas puedes responder, explica que puedes ayudar a localizar tiendas cercanas por ciudad o código postal, y proporcionar información sobre productos.\n",
    "\n",
    "7. Si el usuario pregunta algo que no está relacionado con localizar tiendas, información sobre productos, ni cómo ponerse en contacto, responde:\n",
    "   \"Lo siento, no puedo ayudarte con esa consulta.\"\n",
    "\"\"\""
   ]
  },
  {
   "cell_type": "code",
   "execution_count": null,
   "id": "1f9c8241",
   "metadata": {},
   "outputs": [],
   "source": [
    "system_message = [{\"role\": \"system\", \"content\": system_prompt}]"
   ]
  },
  {
   "cell_type": "code",
   "execution_count": null,
   "id": "14f5e4be",
   "metadata": {},
   "outputs": [],
   "source": [
    "def chat(message, history):\n",
    "    messages = system_message + history + [{\"role\": \"user\", \"content\": message}]\n",
    "    done = False\n",
    "    while not done:\n",
    "        response = client.chat.completions.create(\n",
    "            model=\"gpt-4.1-nano\",\n",
    "            messages=messages,\n",
    "            tools=tools,\n",
    "            parallel_tool_calls=False,\n",
    "        )\n",
    "        if response.choices[0].finish_reason == \"tool_calls\":\n",
    "            message = response.choices[0].message\n",
    "            tool_calls = message.tool_calls\n",
    "            results = handle_tool_calls(tool_calls)\n",
    "            messages.append(message)\n",
    "            messages.extend(results)\n",
    "        else:\n",
    "            done = True\n",
    "    return response.choices[0].message.content"
   ]
  },
  {
   "cell_type": "code",
   "execution_count": null,
   "id": "986637fe",
   "metadata": {},
   "outputs": [],
   "source": [
    "import gradio as gr\n",
    "\n",
    "gr.ChatInterface(chat, type=\"messages\").launch(share=False)"
   ]
  }
 ],
 "metadata": {
  "kernelspec": {
   "display_name": ".venv",
   "language": "python",
   "name": "python3"
  },
  "language_info": {
   "codemirror_mode": {
    "name": "ipython",
    "version": 3
   },
   "file_extension": ".py",
   "mimetype": "text/x-python",
   "name": "python",
   "nbconvert_exporter": "python",
   "pygments_lexer": "ipython3",
   "version": "3.10.0"
  }
 },
 "nbformat": 4,
 "nbformat_minor": 5
}
