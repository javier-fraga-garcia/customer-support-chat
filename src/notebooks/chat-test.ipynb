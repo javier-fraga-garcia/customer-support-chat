{
 "cells": [
  {
   "cell_type": "code",
   "execution_count": null,
   "id": "bbf5d520",
   "metadata": {},
   "outputs": [],
   "source": [
    "import json\n",
    "from openai import OpenAI\n",
    "import pandas as pd"
   ]
  },
  {
   "cell_type": "code",
   "execution_count": null,
   "id": "c8565120",
   "metadata": {},
   "outputs": [],
   "source": [
    "client = OpenAI()"
   ]
  },
  {
   "cell_type": "code",
   "execution_count": null,
   "id": "16f1c9b5",
   "metadata": {},
   "outputs": [],
   "source": [
    "messages = [{\"role\": \"user\", \"content\": \"Hola, como estás?\"}]\n",
    "response = client.chat.completions.create(model=\"gpt-4.1-nano\", messages=messages)"
   ]
  },
  {
   "cell_type": "code",
   "execution_count": null,
   "id": "b06091b4",
   "metadata": {},
   "outputs": [],
   "source": [
    "response.choices[0].message.content"
   ]
  },
  {
   "cell_type": "code",
   "execution_count": null,
   "id": "c2789277",
   "metadata": {},
   "outputs": [],
   "source": [
    "def get_store_locations(postal_codes: list[int]) -> list:\n",
    "    \"\"\"\n",
    "    Retrieves the locations of stores near the specified postal codes.\n",
    "\n",
    "    Args:\n",
    "        postal_codes (list): A list of postal codes to search for nearby stores.\n",
    "\n",
    "    Returns:\n",
    "        list: A list of store locations found near the provided postal codes.\n",
    "    \"\"\"\n",
    "    print(f\"Function called for postal codes: {postal_codes}\")\n",
    "    df = pd.read_csv(\"../data/stores.csv\")\n",
    "    filtered_df = df[df[\"postal_code\"].isin(postal_codes)]\n",
    "    return list(filtered_df[\"store_name\"].values)"
   ]
  },
  {
   "cell_type": "code",
   "execution_count": null,
   "id": "3a5879b7",
   "metadata": {},
   "outputs": [],
   "source": [
    "get_store_locations([27003, 15001, 15003, 27004])"
   ]
  },
  {
   "cell_type": "code",
   "execution_count": null,
   "id": "6831809e",
   "metadata": {},
   "outputs": [],
   "source": [
    "tools = [\n",
    "    {\n",
    "        \"type\": \"function\",\n",
    "        \"function\": {\n",
    "            \"name\": \"get_store_locations\",\n",
    "            \"description\": \"Retrieve the names of stores near the specified postal codes.\",\n",
    "            \"parameters\": {\n",
    "                \"type\": \"object\",\n",
    "                \"properties\": {\n",
    "                    \"postal_codes\": {\n",
    "                        \"type\": \"array\",\n",
    "                        \"items\": {\"type\": \"integer\"},\n",
    "                        \"description\": \"List of postal codes to search for nearby stores. Example: [15003, 15704]\",\n",
    "                    }\n",
    "                },\n",
    "                \"required\": [\"postal_codes\"],\n",
    "                \"additionalProperties\": False,\n",
    "            },\n",
    "        },\n",
    "    }\n",
    "]"
   ]
  },
  {
   "cell_type": "code",
   "execution_count": null,
   "id": "f8b268b1",
   "metadata": {},
   "outputs": [],
   "source": [
    "globals().get(\"get_store_locations\")([27003, 15001, 15003, 27004])"
   ]
  },
  {
   "cell_type": "code",
   "execution_count": null,
   "id": "0bd9f761",
   "metadata": {},
   "outputs": [],
   "source": [
    "system_prompt = \"\"\"\n",
    "Eres un asistente de atención al cliente encargado de ayudar a los usuarios a localizar tiendas cercanas.\n",
    "\n",
    "Dispones de una herramienta llamada `get_store_locations`, que permite recuperar las tiendas disponibles cerca de una ubicación. \n",
    "Esta herramienta recibe un único array con varios códigos postales, por ejemplo: [28001, 28002, 28003], y devuelve las tiendas que hay en esas zonas.\n",
    "\n",
    "INSTRUCCIONES:\n",
    "\n",
    "1. Si el usuario menciona una ciudad:\n",
    "   - Identifica el nombre exacto de la ciudad.\n",
    "   - Obtén todos los códigos postales que pertenecen a esa ciudad.\n",
    "     No uses solo un código o unos pocos: asegúrate de generar la lista completa de códigos postales asociados a esa ciudad.\n",
    "   - Llama a la herramienta `get_store_locations` pasando un único array con todos esos códigos postales.\n",
    "\n",
    "2. Si el usuario menciona una ciudad y un distrito o barrio específico, asegúrate igualmente de incluir todos los códigos postales que correspondan a ese ámbito, aunque sean solo un subconjunto de la ciudad.\n",
    "\n",
    "3. No agrupes llamadas por código individual ni repitas llamadas con arrays parciales.\n",
    "\n",
    "4. Si el usuario pregunta algo que no está relacionado con localizar tiendas por ciudad o código postal, responde:\n",
    "   \"Lo siento, no puedo ayudarte con esa consulta.\"\n",
    "\"\"\""
   ]
  },
  {
   "cell_type": "code",
   "execution_count": null,
   "id": "d16adcf1",
   "metadata": {},
   "outputs": [],
   "source": [
    "messages = [\n",
    "    {\"role\": \"system\", \"content\": system_prompt},\n",
    "    {\"role\": \"user\", \"content\": \"Qué tiendas tienes en Coruña?\"},\n",
    "]\n",
    "response = client.chat.completions.create(\n",
    "    model=\"gpt-4.1-nano\", messages=messages, tools=tools, parallel_tool_calls=False\n",
    ")"
   ]
  },
  {
   "cell_type": "code",
   "execution_count": null,
   "id": "ee17963b",
   "metadata": {},
   "outputs": [],
   "source": [
    "response.choices[0].finish_reason, response.choices[0].message.tool_calls"
   ]
  },
  {
   "cell_type": "code",
   "execution_count": null,
   "id": "ee00efe0",
   "metadata": {},
   "outputs": [],
   "source": [
    "def handle_tool_calls(tool_calls: list) -> list:\n",
    "    results = []\n",
    "    for tool_call in tool_calls:\n",
    "        tool_name = tool_call.function.name\n",
    "        args = json.loads(tool_call.function.arguments)\n",
    "\n",
    "        tool = globals().get(tool_name)\n",
    "        result = tool(**args) if tool else {}\n",
    "\n",
    "        results.append(\n",
    "            {\n",
    "                \"role\": \"tool\",\n",
    "                \"content\": json.dumps(result),\n",
    "                \"tool_call_id\": tool_call.id,\n",
    "            }\n",
    "        )\n",
    "    return results"
   ]
  },
  {
   "cell_type": "code",
   "execution_count": null,
   "id": "1f9c8241",
   "metadata": {},
   "outputs": [],
   "source": [
    "system_message = [{\"role\": \"system\", \"content\": system_prompt}]"
   ]
  },
  {
   "cell_type": "code",
   "execution_count": null,
   "id": "14f5e4be",
   "metadata": {},
   "outputs": [],
   "source": [
    "def chat(message, history):\n",
    "    messages = system_message + history + [{\"role\": \"user\", \"content\": message}]\n",
    "    done = False\n",
    "    while not done:\n",
    "        response = client.chat.completions.create(\n",
    "            model=\"gpt-4.1-nano\",\n",
    "            messages=messages,\n",
    "            tools=tools,\n",
    "            parallel_tool_calls=False,\n",
    "        )\n",
    "        if response.choices[0].finish_reason == \"tool_calls\":\n",
    "            message = response.choices[0].message\n",
    "            tool_calls = message.tool_calls\n",
    "            results = handle_tool_calls(tool_calls)\n",
    "            messages.append(message)\n",
    "            messages.extend(results)\n",
    "        else:\n",
    "            done = True\n",
    "    return response.choices[0].message.content"
   ]
  },
  {
   "cell_type": "code",
   "execution_count": null,
   "id": "986637fe",
   "metadata": {},
   "outputs": [],
   "source": [
    "import gradio as gr\n",
    "\n",
    "gr.ChatInterface(chat, type=\"messages\").launch(share=False)"
   ]
  }
 ],
 "metadata": {
  "kernelspec": {
   "display_name": ".venv",
   "language": "python",
   "name": "python3"
  },
  "language_info": {
   "codemirror_mode": {
    "name": "ipython",
    "version": 3
   },
   "file_extension": ".py",
   "mimetype": "text/x-python",
   "name": "python",
   "nbconvert_exporter": "python",
   "pygments_lexer": "ipython3",
   "version": "3.10.0"
  }
 },
 "nbformat": 4,
 "nbformat_minor": 5
}
