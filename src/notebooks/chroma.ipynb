{
 "cells": [
  {
   "cell_type": "code",
   "execution_count": null,
   "id": "333825ad",
   "metadata": {},
   "outputs": [],
   "source": [
    "import re\n",
    "from pypdf import PdfReader\n",
    "from chromadb import PersistentClient"
   ]
  },
  {
   "cell_type": "code",
   "execution_count": null,
   "id": "0bceaec7",
   "metadata": {},
   "outputs": [],
   "source": [
    "with PdfReader('../data/test-producto-1.pdf') as reader:\n",
    "    text = ''\n",
    "    print(f'Reading document with {len(reader.pages)} pages')\n",
    "    for page in reader.pages:\n",
    "        text += page.extract_text()\n",
    "product_1_text = re.sub(r'\\s+', ' ', text)"
   ]
  },
  {
   "cell_type": "code",
   "execution_count": null,
   "id": "f1f63798",
   "metadata": {},
   "outputs": [],
   "source": [
    "with PdfReader('../data/test-producto-2.pdf') as reader:\n",
    "    text = ''\n",
    "    print(f'Reading document with {len(reader.pages)} pages')\n",
    "    for page in reader.pages:\n",
    "        text += page.extract_text()\n",
    "product_2_text = re.sub(r'\\s+', ' ', text)"
   ]
  },
  {
   "cell_type": "code",
   "execution_count": null,
   "id": "cfc489ff",
   "metadata": {},
   "outputs": [],
   "source": [
    "len(product_1_text), len(product_2_text)"
   ]
  },
  {
   "cell_type": "code",
   "execution_count": null,
   "id": "22d4a099",
   "metadata": {},
   "outputs": [],
   "source": [
    "chunks = []\n",
    "start = 0\n",
    "\n",
    "while start < len(product_1_text):\n",
    "    end = start + 500 # chunk_size\n",
    "    chunk = product_1_text[start:end]\n",
    "    chunks.append(chunk)\n",
    "    start += 500 - 30 # chunk_size - overlap\n",
    "\n",
    "chunks[0], chunks[1]"
   ]
  },
  {
   "cell_type": "code",
   "execution_count": null,
   "id": "5adb8ef5",
   "metadata": {},
   "outputs": [],
   "source": [
    "def text_splitter(text: str, chunk_size: int = 500, overlap: int = 30) -> list[str]:\n",
    "    chunks = []\n",
    "    start = 0\n",
    "\n",
    "    while start < len(text):\n",
    "        end = start + chunk_size\n",
    "        chunk = text[start:end]\n",
    "        chunks.append(chunk)\n",
    "        start += chunk_size - overlap\n",
    "    return chunks"
   ]
  },
  {
   "cell_type": "code",
   "execution_count": null,
   "id": "620ebcea",
   "metadata": {},
   "outputs": [],
   "source": [
    "documents = []\n",
    "for text in [product_1_text, product_2_text]:\n",
    "    chunks = text_splitter(text)\n",
    "    documents.extend(chunks)\n",
    "\n",
    "print(f'Number of documents: {len(documents)}')\n"
   ]
  },
  {
   "cell_type": "code",
   "execution_count": null,
   "id": "5fad1fec",
   "metadata": {},
   "outputs": [],
   "source": [
    "client = PersistentClient('../chroma')"
   ]
  },
  {
   "cell_type": "code",
   "execution_count": null,
   "id": "6f46cac4",
   "metadata": {},
   "outputs": [],
   "source": [
    "collection = client.get_or_create_collection('products')"
   ]
  },
  {
   "cell_type": "code",
   "execution_count": null,
   "id": "b71e9790",
   "metadata": {},
   "outputs": [],
   "source": [
    "import uuid\n",
    "ids = [str(uuid.uuid4()) for _ in range(len(documents))]\n",
    "ids[:2]"
   ]
  },
  {
   "cell_type": "code",
   "execution_count": null,
   "id": "e59f195e",
   "metadata": {},
   "outputs": [],
   "source": [
    "collection.add(\n",
    "    ids=ids,\n",
    "    documents=documents\n",
    ")"
   ]
  },
  {
   "cell_type": "code",
   "execution_count": null,
   "id": "2d31cdac",
   "metadata": {},
   "outputs": [],
   "source": [
    "results = collection.query(\n",
    "    query_texts=['Qué alérgenos contienen las patatas fritas?'],\n",
    "    n_results=3\n",
    ")\n",
    "results"
   ]
  },
  {
   "cell_type": "code",
   "execution_count": null,
   "id": "56282f78",
   "metadata": {},
   "outputs": [],
   "source": [
    "for document in results.get('documents')[0]: \n",
    "    print(document)\n",
    "    print()"
   ]
  },
  {
   "cell_type": "code",
   "execution_count": null,
   "id": "b0711cd9",
   "metadata": {},
   "outputs": [],
   "source": [
    "from queue import Queue\n",
    "from contextlib import contextmanager"
   ]
  },
  {
   "cell_type": "code",
   "execution_count": null,
   "id": "4592d508",
   "metadata": {},
   "outputs": [],
   "source": [
    "class ChromaDbClient:\n",
    "\n",
    "    def __init__(self, db_path: str = './chroma', pool_size: int = 10):\n",
    "        self.pool = Queue(maxsize=pool_size)\n",
    "        succesful_connections = 0\n",
    "        for i in range(pool_size):\n",
    "            try:\n",
    "                client = PersistentClient(db_path)\n",
    "                self.pool.put(client)\n",
    "                succesful_connections += 1\n",
    "            except Exception as e:\n",
    "                print(f'Error while creating connection {i+1}: {str(e)}')\n",
    "        \n",
    "        if self.pool.empty():\n",
    "            raise RuntimeError('Unable to establish connections with the database')\n",
    "        \n",
    "        print(f'{succesful_connections}/{pool_size} connections established')\n",
    "    \n",
    "    def close(self):\n",
    "        while not self.pool.empty():\n",
    "            self.pool.get_nowait()\n",
    "\n",
    "    def __enter__(self):\n",
    "        return self\n",
    "    \n",
    "    def __exit__(self, exc_type, exc_value, traceback):\n",
    "        self.close()\n",
    "\n",
    "    @contextmanager\n",
    "    def acquire(self, collection_name: str, timeout: float = 30):\n",
    "        try:\n",
    "            client = self.pool.get(timeout=timeout)\n",
    "        except Empty:\n",
    "            raise RuntimeError('No available connections in pool')\n",
    "        try:\n",
    "            yield client.get_or_create_collection(collection_name)\n",
    "        finally:\n",
    "            self.pool.put(client)\n"
   ]
  },
  {
   "cell_type": "code",
   "execution_count": null,
   "id": "635a11ef",
   "metadata": {},
   "outputs": [],
   "source": [
    "client = ChromaDbClient(db_path='../chroma')\n",
    "with client.acquire('products') as collection:\n",
    "    results = collection.query(\n",
    "        query_texts=['Qué alérgenos contienen las patatas fritas?'],\n",
    "        n_results=3\n",
    "    )\n",
    "results"
   ]
  }
 ],
 "metadata": {
  "kernelspec": {
   "display_name": ".venv",
   "language": "python",
   "name": "python3"
  },
  "language_info": {
   "codemirror_mode": {
    "name": "ipython",
    "version": 3
   },
   "file_extension": ".py",
   "mimetype": "text/x-python",
   "name": "python",
   "nbconvert_exporter": "python",
   "pygments_lexer": "ipython3",
   "version": "3.10.0"
  }
 },
 "nbformat": 4,
 "nbformat_minor": 5
}
